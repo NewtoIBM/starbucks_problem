{
  "nbformat": 4,
  "nbformat_minor": 0,
  "metadata": {
    "colab": {
      "name": "starbucks.ipynb",
      "provenance": []
    },
    "kernelspec": {
      "name": "python3",
      "display_name": "Python 3"
    },
    "language_info": {
      "name": "python"
    }
  },
  "cells": [
    {
      "cell_type": "code",
      "metadata": {
        "id": "z3U0y4Yhcrqz"
      },
      "source": [
        "# load in packages\n",
        "from itertools import combinations\n",
        "\n",
        "#from test_results import test_results, score\n",
        "import numpy as np\n",
        "import pandas as pd\n",
        "import scipy as sp\n",
        "import sklearn as sk\n",
        "\n",
        "import matplotlib.pyplot as plt\n",
        "import seaborn as sb\n",
        "%matplotlib inline\n",
        "\n",
        "# load in the data\n",
        "train_data = pd.read_csv('./training.csv')\n",
        "train_data.head(10)"
      ],
      "execution_count": null,
      "outputs": []
    },
    {
      "cell_type": "code",
      "metadata": {
        "id": "UMiWHbnCcyW3"
      },
      "source": [
        "#x and y axes input data\n",
        "y = train_data['Promotion']\n",
        "x =  train_data.drop(['Promotion'], axis = 1)"
      ],
      "execution_count": null,
      "outputs": []
    },
    {
      "cell_type": "code",
      "metadata": {
        "id": "qgnu1SQzc1vR"
      },
      "source": [
        "df = train_data.drop(['ID','purchase','Promotion'], axis = 1)"
      ],
      "execution_count": null,
      "outputs": []
    },
    {
      "cell_type": "code",
      "metadata": {
        "id": "4HYr8l1Lc2zV"
      },
      "source": [
        "# Split data into train and test\n",
        "from sklearn.model_selection import train_test_split\n",
        "\n",
        "X_train, X_test, y_train, y_test = train_test_split(df, y, test_size=0.2)"
      ],
      "execution_count": null,
      "outputs": []
    },
    {
      "cell_type": "code",
      "metadata": {
        "id": "V8jTjNlwc5Us"
      },
      "source": [
        "import xgboost as xgb\n",
        "from sklearn.model_selection import GridSearchCV\n",
        "\n",
        "xgbr = xgb.XGBRegressor()\n",
        "\n",
        "params = {'learning_rate': [0.10,0.14,0.15,0.16, 0.2]}\n",
        "\n",
        "xgbr_reg = GridSearchCV(xgbr, params, cv = 10, n_jobs =1)\n",
        "xgbr_reg.fit(X_train, y_train)\n",
        "\n",
        "\n",
        "#print(\"Best params:{}\".format(xgbr_reg.best_params_))\n",
        "\n",
        "#best_x = xgbr_reg.best_estimator_\n",
        "y_train_pred_x = xgbr_reg.predict(X_train)\n",
        "y_val_pred_x = xgbr_reg.predict(X_test)"
      ],
      "execution_count": null,
      "outputs": []
    },
    {
      "cell_type": "code",
      "metadata": {
        "id": "tFzMnZukc-bq"
      },
      "source": [
        "from sklearn.ensemble import RandomForestRegressor\n",
        "# Import the necessary modules\n",
        "from sklearn.model_selection import train_test_split\n",
        "from sklearn.model_selection import GridSearchCV, RandomizedSearchCV, cross_val_score, KFold\n",
        "from sklearn.preprocessing import OneHotEncoder\n",
        "# #############################################################################\n",
        "\n",
        " # create regressor object \n",
        "regressor = RandomForestRegressor(n_estimators = 100, random_state = 42) \n",
        "regressor.fit(X_train, y_train)\n",
        "# fit the regressor with x and y data \n",
        "   \n",
        "# Compute and print metrics\n",
        "scores = -cross_val_score(regressor, X_train, y_train, cv = 10, n_jobs = -1,scoring = 'neg_root_mean_squared_error')\n",
        "# #############################################################################\n",
        "print('RMSE scores mean: {:.3f}'.format(scores.mean()))\n",
        "y_pred=regressor.predict(X_test)\n",
        " "
      ],
      "execution_count": null,
      "outputs": []
    }
  ]
}